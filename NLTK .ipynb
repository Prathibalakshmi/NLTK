{
 "cells": [
  {
   "cell_type": "markdown",
   "id": "b2caced5",
   "metadata": {},
   "source": [
    "### Natural language\n",
    "- Every operation is dealing with language\n",
    "- To get access of the language we need one library(NLTK)\n",
    "- Tokenization\n",
    "- stop words removal\n",
    "- "
   ]
  },
  {
   "cell_type": "markdown",
   "id": "254a7407",
   "metadata": {},
   "source": [
    "### Tokenization"
   ]
  },
  {
   "cell_type": "code",
   "execution_count": 1,
   "id": "da268211",
   "metadata": {},
   "outputs": [
    {
     "name": "stderr",
     "output_type": "stream",
     "text": [
      "[nltk_data] Downloading package punkt to\n",
      "[nltk_data]     C:\\Users\\HP\\AppData\\Roaming\\nltk_data...\n",
      "[nltk_data]   Unzipping tokenizers\\punkt.zip.\n"
     ]
    },
    {
     "data": {
      "text/plain": [
       "True"
      ]
     },
     "execution_count": 1,
     "metadata": {},
     "output_type": "execute_result"
    }
   ],
   "source": [
    "import nltk\n",
    "nltk.download('punkt')"
   ]
  },
  {
   "cell_type": "code",
   "execution_count": 2,
   "id": "15d9d418",
   "metadata": {},
   "outputs": [],
   "source": [
    "# Tokenization- Word,sentence\n",
    "\n",
    "from nltk.tokenize import word_tokenize,sent_tokenize"
   ]
  },
  {
   "cell_type": "code",
   "execution_count": 3,
   "id": "393df641",
   "metadata": {},
   "outputs": [],
   "source": [
    "text=\"I have bought several of the Vitality canned dog food products and have found them all to be of good quality. The product looks more like a stew than a processed meat and it smells better. My Labrador is finicky and she appreciates this product better than  most.\"\n"
   ]
  },
  {
   "cell_type": "code",
   "execution_count": 4,
   "id": "4ca821e0",
   "metadata": {},
   "outputs": [
    {
     "data": {
      "text/plain": [
       "['I',\n",
       " 'have',\n",
       " 'bought',\n",
       " 'several',\n",
       " 'of',\n",
       " 'the',\n",
       " 'Vitality',\n",
       " 'canned',\n",
       " 'dog',\n",
       " 'food',\n",
       " 'products',\n",
       " 'and',\n",
       " 'have',\n",
       " 'found',\n",
       " 'them',\n",
       " 'all',\n",
       " 'to',\n",
       " 'be',\n",
       " 'of',\n",
       " 'good',\n",
       " 'quality',\n",
       " '.',\n",
       " 'The',\n",
       " 'product',\n",
       " 'looks',\n",
       " 'more',\n",
       " 'like',\n",
       " 'a',\n",
       " 'stew',\n",
       " 'than',\n",
       " 'a',\n",
       " 'processed',\n",
       " 'meat',\n",
       " 'and',\n",
       " 'it',\n",
       " 'smells',\n",
       " 'better',\n",
       " '.',\n",
       " 'My',\n",
       " 'Labrador',\n",
       " 'is',\n",
       " 'finicky',\n",
       " 'and',\n",
       " 'she',\n",
       " 'appreciates',\n",
       " 'this',\n",
       " 'product',\n",
       " 'better',\n",
       " 'than',\n",
       " 'most',\n",
       " '.']"
      ]
     },
     "execution_count": 4,
     "metadata": {},
     "output_type": "execute_result"
    }
   ],
   "source": [
    "words=word_tokenize(text)\n",
    "words"
   ]
  },
  {
   "cell_type": "code",
   "execution_count": 5,
   "id": "eab40c34",
   "metadata": {},
   "outputs": [
    {
     "data": {
      "text/plain": [
       "['I have bought several of the Vitality canned dog food products and have found them all to be of good quality.',\n",
       " 'The product looks more like a stew than a processed meat and it smells better.',\n",
       " 'My Labrador is finicky and she appreciates this product better than  most.']"
      ]
     },
     "execution_count": 5,
     "metadata": {},
     "output_type": "execute_result"
    }
   ],
   "source": [
    "sent=sent_tokenize(text)\n",
    "sent"
   ]
  },
  {
   "cell_type": "markdown",
   "id": "6477d569",
   "metadata": {},
   "source": [
    "### stopwords"
   ]
  },
  {
   "cell_type": "code",
   "execution_count": 6,
   "id": "da4ad0d0",
   "metadata": {},
   "outputs": [],
   "source": [
    "from nltk.corpus import stopwords"
   ]
  },
  {
   "cell_type": "code",
   "execution_count": 7,
   "id": "ccd8d34a",
   "metadata": {},
   "outputs": [
    {
     "name": "stderr",
     "output_type": "stream",
     "text": [
      "[nltk_data] Downloading package stopwords to\n",
      "[nltk_data]     C:\\Users\\HP\\AppData\\Roaming\\nltk_data...\n",
      "[nltk_data]   Unzipping corpora\\stopwords.zip.\n"
     ]
    },
    {
     "data": {
      "text/plain": [
       "True"
      ]
     },
     "execution_count": 7,
     "metadata": {},
     "output_type": "execute_result"
    }
   ],
   "source": [
    "nltk.download('stopwords')"
   ]
  },
  {
   "cell_type": "code",
   "execution_count": 12,
   "id": "e510726b",
   "metadata": {},
   "outputs": [
    {
     "name": "stdout",
     "output_type": "stream",
     "text": [
      "['bought', 'several', 'Vitality', 'canned', 'dog', 'food', 'products', 'found', 'good', 'quality', '.', 'product', 'looks', 'like', 'stew', 'processed', 'meat', 'smells', 'better', '.', 'Labrador', 'finicky', 'appreciates', 'product', 'better', '.']\n"
     ]
    }
   ],
   "source": [
    "stop=set(stopwords.words('english'))\n",
    "filtered_words=[word for word in words if word.lower() not in stop]\n",
    "print(filtered_words)"
   ]
  },
  {
   "cell_type": "markdown",
   "id": "b4ec428f",
   "metadata": {},
   "source": [
    "### POS-Tagging"
   ]
  },
  {
   "cell_type": "code",
   "execution_count": 13,
   "id": "ca677e01",
   "metadata": {},
   "outputs": [
    {
     "name": "stderr",
     "output_type": "stream",
     "text": [
      "[nltk_data] Downloading package averaged_perceptron_tagger to\n",
      "[nltk_data]     C:\\Users\\HP\\AppData\\Roaming\\nltk_data...\n",
      "[nltk_data]   Unzipping taggers\\averaged_perceptron_tagger.zip.\n"
     ]
    },
    {
     "data": {
      "text/plain": [
       "True"
      ]
     },
     "execution_count": 13,
     "metadata": {},
     "output_type": "execute_result"
    }
   ],
   "source": [
    "nltk.download('averaged_perceptron_tagger')"
   ]
  },
  {
   "cell_type": "code",
   "execution_count": 14,
   "id": "ba7d6168",
   "metadata": {},
   "outputs": [
    {
     "data": {
      "text/plain": [
       "[('I', 'PRP'),\n",
       " ('have', 'VBP'),\n",
       " ('bought', 'VBN'),\n",
       " ('several', 'JJ'),\n",
       " ('of', 'IN'),\n",
       " ('the', 'DT'),\n",
       " ('Vitality', 'NNP'),\n",
       " ('canned', 'VBD'),\n",
       " ('dog', 'RP'),\n",
       " ('food', 'NN'),\n",
       " ('products', 'NNS'),\n",
       " ('and', 'CC'),\n",
       " ('have', 'VBP'),\n",
       " ('found', 'VBN'),\n",
       " ('them', 'PRP'),\n",
       " ('all', 'DT'),\n",
       " ('to', 'TO'),\n",
       " ('be', 'VB'),\n",
       " ('of', 'IN'),\n",
       " ('good', 'JJ'),\n",
       " ('quality', 'NN'),\n",
       " ('.', '.'),\n",
       " ('The', 'DT'),\n",
       " ('product', 'NN'),\n",
       " ('looks', 'VBZ'),\n",
       " ('more', 'RBR'),\n",
       " ('like', 'IN'),\n",
       " ('a', 'DT'),\n",
       " ('stew', 'NN'),\n",
       " ('than', 'IN'),\n",
       " ('a', 'DT'),\n",
       " ('processed', 'JJ'),\n",
       " ('meat', 'NN'),\n",
       " ('and', 'CC'),\n",
       " ('it', 'PRP'),\n",
       " ('smells', 'VBZ'),\n",
       " ('better', 'RBR'),\n",
       " ('.', '.'),\n",
       " ('My', 'PRP$'),\n",
       " ('Labrador', 'NNP'),\n",
       " ('is', 'VBZ'),\n",
       " ('finicky', 'JJ'),\n",
       " ('and', 'CC'),\n",
       " ('she', 'PRP'),\n",
       " ('appreciates', 'VBZ'),\n",
       " ('this', 'DT'),\n",
       " ('product', 'NN'),\n",
       " ('better', 'JJR'),\n",
       " ('than', 'IN'),\n",
       " ('most', 'JJS'),\n",
       " ('.', '.')]"
      ]
     },
     "execution_count": 14,
     "metadata": {},
     "output_type": "execute_result"
    }
   ],
   "source": [
    "pos_tags=nltk.pos_tag(words)\n",
    "pos_tags"
   ]
  },
  {
   "cell_type": "markdown",
   "id": "7eb79134",
   "metadata": {},
   "source": [
    "### Lemmatization and Stemming"
   ]
  },
  {
   "cell_type": "code",
   "execution_count": 15,
   "id": "32036c5c",
   "metadata": {},
   "outputs": [
    {
     "name": "stderr",
     "output_type": "stream",
     "text": [
      "[nltk_data] Downloading package wordnet to\n",
      "[nltk_data]     C:\\Users\\HP\\AppData\\Roaming\\nltk_data...\n"
     ]
    },
    {
     "data": {
      "text/plain": [
       "True"
      ]
     },
     "execution_count": 15,
     "metadata": {},
     "output_type": "execute_result"
    }
   ],
   "source": [
    "from nltk.stem import WordNetLemmatizer\n",
    "nltk.download('wordnet')"
   ]
  },
  {
   "cell_type": "code",
   "execution_count": 19,
   "id": "e9a94229",
   "metadata": {},
   "outputs": [
    {
     "name": "stderr",
     "output_type": "stream",
     "text": [
      "[nltk_data] Downloading package omw-1.4 to\n",
      "[nltk_data]     C:\\Users\\HP\\AppData\\Roaming\\nltk_data...\n"
     ]
    },
    {
     "data": {
      "text/plain": [
       "True"
      ]
     },
     "execution_count": 19,
     "metadata": {},
     "output_type": "execute_result"
    }
   ],
   "source": [
    "nltk.download('omw-1.4')"
   ]
  },
  {
   "cell_type": "code",
   "execution_count": 20,
   "id": "45b7120d",
   "metadata": {},
   "outputs": [],
   "source": [
    "lemmatizer=WordNetLemmatizer()"
   ]
  },
  {
   "cell_type": "code",
   "execution_count": 21,
   "id": "1d1a03dd",
   "metadata": {},
   "outputs": [
    {
     "name": "stdout",
     "output_type": "stream",
     "text": [
      "['I', 'have', 'bought', 'several', 'of', 'the', 'Vitality', 'canned', 'dog', 'food', 'product', 'and', 'have', 'found', 'them', 'all', 'to', 'be', 'of', 'good', 'quality', '.', 'The', 'product', 'look', 'more', 'like', 'a', 'stew', 'than', 'a', 'processed', 'meat', 'and', 'it', 'smell', 'better', '.', 'My', 'Labrador', 'is', 'finicky', 'and', 'she', 'appreciates', 'this', 'product', 'better', 'than', 'most', '.']\n"
     ]
    }
   ],
   "source": [
    "lemmatized_words=[lemmatizer.lemmatize(word) for word in words]\n",
    "print(lemmatized_words)"
   ]
  },
  {
   "cell_type": "markdown",
   "id": "cf76c5ed",
   "metadata": {},
   "source": [
    "### Named Entity Recognition"
   ]
  },
  {
   "cell_type": "code",
   "execution_count": 22,
   "id": "d4de14fe",
   "metadata": {},
   "outputs": [
    {
     "name": "stderr",
     "output_type": "stream",
     "text": [
      "[nltk_data] Downloading package maxent_ne_chunker to\n",
      "[nltk_data]     C:\\Users\\HP\\AppData\\Roaming\\nltk_data...\n",
      "[nltk_data]   Unzipping chunkers\\maxent_ne_chunker.zip.\n"
     ]
    },
    {
     "data": {
      "text/plain": [
       "True"
      ]
     },
     "execution_count": 22,
     "metadata": {},
     "output_type": "execute_result"
    }
   ],
   "source": [
    "# to use NSE we need too \n",
    "nltk.download('maxent_ne_chunker')"
   ]
  },
  {
   "cell_type": "code",
   "execution_count": 24,
   "id": "d2b6de6e",
   "metadata": {},
   "outputs": [
    {
     "name": "stderr",
     "output_type": "stream",
     "text": [
      "[nltk_data] Downloading package words to\n",
      "[nltk_data]     C:\\Users\\HP\\AppData\\Roaming\\nltk_data...\n",
      "[nltk_data]   Unzipping corpora\\words.zip.\n"
     ]
    },
    {
     "data": {
      "text/plain": [
       "True"
      ]
     },
     "execution_count": 24,
     "metadata": {},
     "output_type": "execute_result"
    }
   ],
   "source": [
    "nltk.download('words')"
   ]
  },
  {
   "cell_type": "code",
   "execution_count": 25,
   "id": "9fec8a2a",
   "metadata": {},
   "outputs": [],
   "source": [
    "ner_tags=nltk.ne_chunk(pos_tags)"
   ]
  },
  {
   "cell_type": "code",
   "execution_count": 26,
   "id": "82612c97",
   "metadata": {},
   "outputs": [
    {
     "name": "stdout",
     "output_type": "stream",
     "text": [
      "(S\n",
      "  I/PRP\n",
      "  have/VBP\n",
      "  bought/VBN\n",
      "  several/JJ\n",
      "  of/IN\n",
      "  the/DT\n",
      "  (ORGANIZATION Vitality/NNP)\n",
      "  canned/VBD\n",
      "  dog/RP\n",
      "  food/NN\n",
      "  products/NNS\n",
      "  and/CC\n",
      "  have/VBP\n",
      "  found/VBN\n",
      "  them/PRP\n",
      "  all/DT\n",
      "  to/TO\n",
      "  be/VB\n",
      "  of/IN\n",
      "  good/JJ\n",
      "  quality/NN\n",
      "  ./.\n",
      "  The/DT\n",
      "  product/NN\n",
      "  looks/VBZ\n",
      "  more/RBR\n",
      "  like/IN\n",
      "  a/DT\n",
      "  stew/NN\n",
      "  than/IN\n",
      "  a/DT\n",
      "  processed/JJ\n",
      "  meat/NN\n",
      "  and/CC\n",
      "  it/PRP\n",
      "  smells/VBZ\n",
      "  better/RBR\n",
      "  ./.\n",
      "  My/PRP$\n",
      "  (ORGANIZATION Labrador/NNP)\n",
      "  is/VBZ\n",
      "  finicky/JJ\n",
      "  and/CC\n",
      "  she/PRP\n",
      "  appreciates/VBZ\n",
      "  this/DT\n",
      "  product/NN\n",
      "  better/JJR\n",
      "  than/IN\n",
      "  most/JJS\n",
      "  ./.)\n"
     ]
    }
   ],
   "source": [
    "print(ner_tags)"
   ]
  },
  {
   "cell_type": "markdown",
   "id": "189b172a",
   "metadata": {},
   "source": [
    "### Sentiment Analysis"
   ]
  },
  {
   "cell_type": "code",
   "execution_count": 27,
   "id": "2aef3c69",
   "metadata": {},
   "outputs": [],
   "source": [
    "from nltk.sentiment import SentimentIntensityAnalyzer\n"
   ]
  },
  {
   "cell_type": "code",
   "execution_count": 28,
   "id": "7f3ee2db",
   "metadata": {},
   "outputs": [
    {
     "name": "stderr",
     "output_type": "stream",
     "text": [
      "[nltk_data] Downloading package vader_lexicon to\n",
      "[nltk_data]     C:\\Users\\HP\\AppData\\Roaming\\nltk_data...\n"
     ]
    },
    {
     "data": {
      "text/plain": [
       "True"
      ]
     },
     "execution_count": 28,
     "metadata": {},
     "output_type": "execute_result"
    }
   ],
   "source": [
    "nltk.download('vader_lexicon')"
   ]
  },
  {
   "cell_type": "code",
   "execution_count": 30,
   "id": "83992065",
   "metadata": {},
   "outputs": [],
   "source": [
    "sentiment_analyser=SentimentIntensityAnalyzer()\n"
   ]
  },
  {
   "cell_type": "code",
   "execution_count": 31,
   "id": "0cb97a88",
   "metadata": {},
   "outputs": [],
   "source": [
    "text1=\"NLTK is awesome\""
   ]
  },
  {
   "cell_type": "code",
   "execution_count": 33,
   "id": "174e6239",
   "metadata": {},
   "outputs": [
    {
     "name": "stdout",
     "output_type": "stream",
     "text": [
      "{'neg': 0.0, 'neu': 0.328, 'pos': 0.672, 'compound': 0.6249}\n"
     ]
    }
   ],
   "source": [
    "sentiment_score=sentiment_analyser.polarity_scores(text1)\n",
    "print(sentiment_score)"
   ]
  },
  {
   "cell_type": "markdown",
   "id": "b12b6586",
   "metadata": {},
   "source": [
    "### Vectorization\n",
    "- bag of words\n",
    "- TF-IDF\n",
    "- Word Embedding\n"
   ]
  },
  {
   "cell_type": "code",
   "execution_count": 34,
   "id": "c22356d0",
   "metadata": {},
   "outputs": [],
   "source": [
    "# bag of words\n",
    "from sklearn.feature_extraction.text import CountVectorizer"
   ]
  },
  {
   "cell_type": "code",
   "execution_count": 35,
   "id": "1018b1c0",
   "metadata": {},
   "outputs": [],
   "source": [
    "corpus=[\n",
    "    \" I love natural language processing \",\n",
    "    \" Machine learning is fascinating\",\n",
    "    \" I enjoy working with python\"\n",
    "]"
   ]
  },
  {
   "cell_type": "code",
   "execution_count": 36,
   "id": "d8c45960",
   "metadata": {},
   "outputs": [],
   "source": [
    "vectorizer=CountVectorizer()"
   ]
  },
  {
   "cell_type": "code",
   "execution_count": 37,
   "id": "23c0e235",
   "metadata": {},
   "outputs": [
    {
     "name": "stdout",
     "output_type": "stream",
     "text": [
      "['enjoy' 'fascinating' 'is' 'language' 'learning' 'love' 'machine'\n",
      " 'natural' 'processing' 'python' 'with' 'working']\n",
      "[[0 0 0 1 0 1 0 1 1 0 0 0]\n",
      " [0 1 1 0 1 0 1 0 0 0 0 0]\n",
      " [1 0 0 0 0 0 0 0 0 1 1 1]]\n"
     ]
    }
   ],
   "source": [
    "X=vectorizer.fit_transform(corpus)\n",
    "print(vectorizer.get_feature_names_out())# get the feature name(worsds)\n",
    "print(X.toarray())#convert the sparce matrix to a dense array representaion"
   ]
  },
  {
   "cell_type": "markdown",
   "id": "a2066d4f",
   "metadata": {},
   "source": [
    "### TF-IDF"
   ]
  },
  {
   "cell_type": "code",
   "execution_count": 38,
   "id": "be1cc457",
   "metadata": {},
   "outputs": [],
   "source": [
    "from sklearn.feature_extraction.text import TfidfVectorizer"
   ]
  },
  {
   "cell_type": "code",
   "execution_count": 39,
   "id": "ede1edd6",
   "metadata": {},
   "outputs": [],
   "source": [
    "corpus=[\n",
    "    \" I love natural language processing \",\n",
    "    \" Machine learning is fascinating\",\n",
    "    \" I enjoy working with python\"\n",
    "]"
   ]
  },
  {
   "cell_type": "code",
   "execution_count": 40,
   "id": "091da209",
   "metadata": {},
   "outputs": [],
   "source": [
    "vectorizer=TfidfVectorizer()"
   ]
  },
  {
   "cell_type": "code",
   "execution_count": 41,
   "id": "f853ecfb",
   "metadata": {},
   "outputs": [
    {
     "name": "stdout",
     "output_type": "stream",
     "text": [
      "['enjoy' 'fascinating' 'is' 'language' 'learning' 'love' 'machine'\n",
      " 'natural' 'processing' 'python' 'with' 'working']\n",
      "[[0.  0.  0.  0.5 0.  0.5 0.  0.5 0.5 0.  0.  0. ]\n",
      " [0.  0.5 0.5 0.  0.5 0.  0.5 0.  0.  0.  0.  0. ]\n",
      " [0.5 0.  0.  0.  0.  0.  0.  0.  0.  0.5 0.5 0.5]]\n"
     ]
    }
   ],
   "source": [
    "X=vectorizer.fit_transform(corpus)\n",
    "print(vectorizer.get_feature_names_out())# get the feature name(worsds)\n",
    "print(X.toarray())#convert the sparce matrix to a dense array representaion"
   ]
  },
  {
   "cell_type": "markdown",
   "id": "a28f5015",
   "metadata": {},
   "source": [
    "### Word Embedding"
   ]
  },
  {
   "cell_type": "code",
   "execution_count": 42,
   "id": "a05de4ae",
   "metadata": {},
   "outputs": [],
   "source": [
    "import numpy as np\n"
   ]
  },
  {
   "cell_type": "code",
   "execution_count": 43,
   "id": "55951f9a",
   "metadata": {},
   "outputs": [],
   "source": [
    "word_embedding={\n",
    "    'love': np.array([0.2,0.4,-0.5]),\n",
    "    'natural': np.array([0.1,0.2,0.3]),\n",
    "    'language':np.array([0.6,-0.2,0.3]),\n",
    "    'processing':np.array([-0.3,0.7,0.4])\n",
    "}"
   ]
  },
  {
   "cell_type": "code",
   "execution_count": 47,
   "id": "54d62096",
   "metadata": {},
   "outputs": [],
   "source": [
    "doc=\"love natural language processing\"\n",
    "words=doc.lower().split()\n",
    "doc_embedding=np.mean([word_embedding[word] for word in words],axis=0)"
   ]
  },
  {
   "cell_type": "code",
   "execution_count": 48,
   "id": "c78ab19a",
   "metadata": {},
   "outputs": [
    {
     "name": "stdout",
     "output_type": "stream",
     "text": [
      "[0.15  0.275 0.125]\n"
     ]
    }
   ],
   "source": [
    "print(doc_embedding)"
   ]
  },
  {
   "cell_type": "code",
   "execution_count": null,
   "id": "213c826a",
   "metadata": {},
   "outputs": [],
   "source": []
  }
 ],
 "metadata": {
  "kernelspec": {
   "display_name": "Python 3 (ipykernel)",
   "language": "python",
   "name": "python3"
  },
  "language_info": {
   "codemirror_mode": {
    "name": "ipython",
    "version": 3
   },
   "file_extension": ".py",
   "mimetype": "text/x-python",
   "name": "python",
   "nbconvert_exporter": "python",
   "pygments_lexer": "ipython3",
   "version": "3.10.9"
  }
 },
 "nbformat": 4,
 "nbformat_minor": 5
}
